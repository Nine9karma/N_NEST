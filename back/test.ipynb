{
 "cells": [
  {
   "cell_type": "code",
   "execution_count": 2,
   "metadata": {},
   "outputs": [
    {
     "data": {
      "image/png": "[encoded data removed]",
      "text/plain": [
       "<IPython.core.display.Image object>"
      ]
     },
     "metadata": {},
     "output_type": "display_data"
    }
   ],
   "source": [
    "import os\n",
    "import openai\n",
    "import requests\n",
    "from PIL import Image\n",
    "from io import BytesIO\n",
    "from dotenv import load_dotenv\n",
    "from IPython.display import display\n",
    "\n",
    "# .env 파일에서 환경 변수 로드\n",
    "load_dotenv()\n",
    "\n",
    "# 환경 변수 로드\n",
    "OPENAI_API_KEY = os.getenv(\"OPENAI_API_KEY\")\n",
    "\n",
    "# OpenAI API 키 설정\n",
    "openai.api_key = OPENAI_API_KEY\n",
    "\n",
    "def generate_image(prompt):\n",
    "    try:\n",
    "        # 이미지 생성 요청\n",
    "        response = openai.Image.create(\n",
    "            prompt=prompt,\n",
    "            n=1,\n",
    "            size=\"1024x1024\"\n",
    "        )\n",
    "        image_url = response['data'][0]['url']\n",
    "\n",
    "        # 이미지 다운로드\n",
    "        image_data = requests.get(image_url).content\n",
    "\n",
    "        # 이미지 로드\n",
    "        image = Image.open(BytesIO(image_data))\n",
    "\n",
    "        return image\n",
    "    except Exception as e:\n",
    "        return str(e)\n",
    "\n",
    "# 테스트할 프롬프트\n",
    "prompt = \"A robot icon with the text 'AI' to visually emphasize core technology.\"\n",
    "\n",
    "# 이미지 생성 및 표시\n",
    "image = generate_image(prompt)\n",
    "\n",
    "if isinstance(image, Image.Image):\n",
    "    display(image)\n",
    "else:\n",
    "    print(f\"Error: {image}\")\n"
   ]
  }
 ],
 "metadata": {
  "kernelspec": {
   "display_name": "Python 3",
   "language": "python",
   "name": "python3"
  },
  "language_info": {
   "codemirror_mode": {
    "name": "ipython",
    "version": 3
   },
   "file_extension": ".py",
   "mimetype": "text/x-python",
   "name": "python",
   "nbconvert_exporter": "python",
   "pygments_lexer": "ipython3",
   "version": "3.11.5"
  }
 },
 "nbformat": 4,
 "nbformat_minor": 2
}
